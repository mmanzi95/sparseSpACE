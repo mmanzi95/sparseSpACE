{
 "nbformat": 4,
 "nbformat_minor": 2,
 "metadata": {
  "language_info": {
   "name": "python",
   "codemirror_mode": {
    "name": "ipython",
    "version": 3
   },
   "version": "3.6.9-final"
  },
  "orig_nbformat": 2,
  "file_extension": ".py",
  "mimetype": "text/x-python",
  "name": "python",
  "npconvert_exporter": "python",
  "pygments_lexer": "ipython3",
  "version": 3,
  "kernelspec": {
   "name": "python36964bit1967d2be900a4636af6a46d82afe9d8d",
   "display_name": "Python 3.6.9 64-bit"
  }
 },
 "cells": [
  {
   "cell_type": "markdown",
   "execution_count": null,
   "metadata": {},
   "outputs": [],
   "source": [
    "# Solving PDEs with FEniCS using Spatially Adaptive Combination Technique\n",
    "\n",
    "## 2D Poisson Equation\n",
    "In this example we are using UnitSquare2DPoissonDirichletBC function wich defines a 2D Poisson equation over a square domain with Dirichlet boundary conditions\n",
    "\n",
    "\n",
    " \\begin{equation}\n",
    "  \\begin{split}\n",
    "   -\\nabla²(x)=f(x),\\; x\\,in\\,\\Omega,\\\\\n",
    "   u(x)=u_D(x),\\;x\\,on\\,\\delta\\Omega.\n",
    "  \\end{split}\n",
    " \\end{equation}\n",
    " \n"
   ]
  },
  {
   "cell_type": "code",
   "execution_count": null,
   "metadata": {},
   "outputs": [],
   "source": [
    "%matplotlib inline\n",
    "from sys import path\n",
    "path.append('../src/')\n",
    "path.append('../PDE')\n",
    "\n",
    "from fenics import *\n",
    "import matplotlib.pyplot as plt\n",
    "import numpy as np\n",
    "\n",
    "from StandardCombi import *\n",
    "from GridOperation import *\n",
    "from ComponentGrid import DummyGridArbitraryDim\n",
    "from combineGrids *\n",
    "\n",
    "\n"
   ]
  },
  {
   "cell_type": "markdown",
   "execution_count": null,
   "metadata": {},
   "outputs": [],
   "source": [
    "Lets define boundary values u_D and right hand side f to be:\n",
    " \\begin{equation}\n",
    "  u_D(x) = 1 + x_0^2 + x_1^2, \\\\\n",
    "  f(x) = -6.\n",
    " \\end{equation}"
   ]
  },
  {
   "cell_type": "code",
   "execution_count": null,
   "metadata": {},
   "outputs": [],
   "source": [
    "dim = 2\n",
    "poisson2D = Poisson('-6.0', 1, '1 + x[0]*x[0] + 2*x[1]*x[1]', 2, '1 + x[0]*x[0] + 2*x[1]*x[1]', 2)\n",
    "grid\n",
    "\n",
    "operation = PDE_Solve(f=poisson2D, dim=dim, grid=grid)\n",
    "combiObject = StandardCombi(a, b, operation=operation)\n",
    "\n",
    "# Solve PDE using standard Combination Technique\n",
    "minimum_level = 1\n",
    "maximum_level = 4\n",
    "combiObject.perform_operation(minimum_level, maximum_level, poisson2D)\n",
    "\n",
    "# Results\n",
    "combiObject.print_resulting_combi_scheme(markersize=5)\n",
    "combiObject.print_resulting_sparsegrid(markersize=10)"
   ]
  },
  {
   "cell_type": "code",
   "execution_count": null,
   "metadata": {},
   "outputs": [],
   "source": []
  }
 ]
}